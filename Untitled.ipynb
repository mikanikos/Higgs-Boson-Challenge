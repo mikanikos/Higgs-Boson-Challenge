{
 "cells": [
  {
   "cell_type": "code",
   "execution_count": 1,
   "metadata": {},
   "outputs": [],
   "source": [
    "import numpy as np\n",
    "from proj1_helpers import *\n",
    "from costs import *\n",
    "from helpers import *\n",
    "from implementations import *\n"
   ]
  },
  {
   "cell_type": "code",
   "execution_count": 6,
   "metadata": {},
   "outputs": [],
   "source": [
    "## Load training and test sets\n",
    "glob_y_tr, glob_tx_tr, ids_tr = load_csv_data(\"data/train.csv\")\n",
    "glob_y_te, glob_tx_te, ids_te = load_csv_data(\"data/test.csv\")\n",
    "\n",
    "## For training, let y exist on {0, 1} rather than {-1, 1} to improve cost calculations\n",
    "glob_y_tr = (glob_y_tr + 1) / 2\n",
    "\n",
    "## Fix issues with dataset involving suspicious outliers\n",
    "glob_tx_te = clean_tx(glob_tx_te)\n",
    "glob_tx_tr = clean_tx(glob_tx_tr)"
   ]
  },
  {
   "cell_type": "code",
   "execution_count": 5,
   "metadata": {},
   "outputs": [],
   "source": [
    "def ridge_trials(degree_range, lambda_range):\n",
    "    degrees = range(degree_range[0], degree_range[1])\n",
    "    lambdas = np.logspace(lambda_range[0], lambda_range[1], num=(lambda_range[1]-lambda_range[0]))\n",
    "    losses = []\n",
    "    weights_res = []\n",
    "    preds = []\n",
    "    for degree in degrees:\n",
    "        for lambda_ in lambdas:\n",
    "            print(\"Trying degree\", degree,\"with lambda =\", lambda_,\":\")\n",
    "            \n",
    "            tx_tr, tx_te = expand(degree, glob_tx_tr, glob_tx_te)\n",
    "            weights, loss = ridge_regression(glob_y_tr, tx_tr, lambda_)\n",
    "            y_pred = predict_labels(weights, tx_te)\n",
    "            test_loss = compute_loss(glob_y_te, tx_te, weights)\n",
    "            accuracy = compute_accuracy(y_pred, glob_y_te)\n",
    "\n",
    "            print(\"\\tTest Loss = \", test_loss, \" Test Accuracy = \", accuracy )\n",
    "            losses.append(test_loss)\n",
    "            weights_res.append(weights)\n",
    "            preds.append(y_pred)\n",
    "    return weights_res, losses, preds\n",
    "            \n",
    "    \n",
    "    #def logistic_GD(y, tx, initial_w, max_iters, gamma):\n",
    "    \n",
    "MAX_ITERS = 150   \n",
    "GAMMA = 0.2\n",
    "\n",
    "def logistic_trials(degree_range):\n",
    "    degrees = range(degree_range[0], degree_range[1])\n",
    "    losses = []\n",
    "    weights_res = []\n",
    "    preds = []\n",
    "    for degree in degrees:\n",
    "        print(\"Trying degree\", degree, \":\")\n",
    "\n",
    "        tx_tr, tx_te = expand(degree, glob_tx_tr, glob_tx_te)        \n",
    "        initial_w = np.ones(tx_tr.shape[1])\n",
    "        \n",
    "        weights, loss = logistic_GD(glob_y_tr, tx_tr, initial_w, MAX_ITERS, GAMMA)\n",
    "        print(\"\\tTraining Loss = \", loss)\n",
    "        \n",
    "        y_pred = predict_labels(weights, tx_te)\n",
    "        test_loss = compute_loss(glob_y_te, tx_te, weights, func=\"logistic\")\n",
    "        accuracy = compute_accuracy(y_pred, glob_y_te)\n",
    "\n",
    "        print(\"\\tTest Loss = \", test_loss, \" Test Accuracy = \", accuracy )\n",
    "        losses.append(test_loss)\n",
    "        weights_res.append(weights)\n",
    "        preds.append(y_pred)\n",
    "    return weights_res, losses, preds"
   ]
  },
  {
   "cell_type": "code",
   "execution_count": 4,
   "metadata": {},
   "outputs": [],
   "source": [
    "def expand(degree, tx_tr, tx_te):\n",
    "    ## Expand features to include polynomial terms\n",
    "    res_tr = build_poly(tx_tr, degree)\n",
    "    res_te = build_poly(tx_te, degree)\n",
    "    ## Standardize\n",
    "    res_tr, mean, std = standardize(res_tr)\n",
    "    res_te = (res_te-mean)/std\n",
    "    ## Fix NaNs resulting from division by 0\n",
    "    res_tr[np.isnan(res_tr)]=1\n",
    "    res_te[np.isnan(res_te)]=1\n",
    "    return res_tr, res_te"
   ]
  },
  {
   "cell_type": "code",
   "execution_count": 3,
   "metadata": {},
   "outputs": [],
   "source": [
    "def clean_tx(tx):\n",
    "    result = np.copy(tx)\n",
    "    ## Convert -999 to NaN as we believe these are misidentified data\n",
    "    ## Recording as NaN prevents them from influencing mean calculations\n",
    "    result[result==-999]=np.nan\n",
    "    \n",
    "    ## Now replace each NaN index with the mean of its column\n",
    "    means = np.nanmean(result, axis=0)\n",
    "    nans = np.where(np.isnan(result))\n",
    "    result[nans] = np.take(means, nans[1])\n",
    "    return result"
   ]
  },
  {
   "cell_type": "code",
   "execution_count": 7,
   "metadata": {},
   "outputs": [
    {
     "name": "stdout",
     "output_type": "stream",
     "text": [
      "Trying degree 1 :\n"
     ]
    },
    {
     "name": "stderr",
     "output_type": "stream",
     "text": [
      "/Users/marshallcooper/ML/proj1/MachineLearning_Project1/helpers.py:39: RuntimeWarning: divide by zero encountered in true_divide\n",
      "  x = x/stds\n",
      "/Users/marshallcooper/ML/proj1/MachineLearning_Project1/helpers.py:39: RuntimeWarning: invalid value encountered in true_divide\n",
      "  x = x/stds\n",
      "/Users/marshallcooper/anaconda3/lib/python3.6/site-packages/ipykernel_launcher.py:7: RuntimeWarning: divide by zero encountered in true_divide\n",
      "  import sys\n",
      "/Users/marshallcooper/anaconda3/lib/python3.6/site-packages/ipykernel_launcher.py:7: RuntimeWarning: invalid value encountered in true_divide\n",
      "  import sys\n",
      "/Users/marshallcooper/ML/proj1/MachineLearning_Project1/costs.py:18: RuntimeWarning: divide by zero encountered in log\n",
      "  loss = y.T.dot(np.log(pred)) + (1 - y).T.dot(np.log(1 - pred))\n"
     ]
    },
    {
     "name": "stdout",
     "output_type": "stream",
     "text": [
      "\tTraining Loss =  nan\n",
      "\tTest Loss =  nan  Test Accuracy =  0.28562855704827905\n",
      "Trying degree 2 :\n",
      "\tTraining Loss =  nan\n",
      "\tTest Loss =  nan  Test Accuracy =  0.2879744050908246\n"
     ]
    }
   ],
   "source": [
    "trial_weights, trial_losses, preds =  logistic_trials((1,3))"
   ]
  },
  {
   "cell_type": "code",
   "execution_count": 9,
   "metadata": {},
   "outputs": [
    {
     "name": "stdout",
     "output_type": "stream",
     "text": [
      "Trying degree 1 with lambda = 0.01 :\n"
     ]
    },
    {
     "name": "stderr",
     "output_type": "stream",
     "text": [
      "/Users/marshallcooper/ML/proj1/MachineLearning_Project1/helpers.py:39: RuntimeWarning: divide by zero encountered in true_divide\n",
      "  x = x/stds\n",
      "/Users/marshallcooper/ML/proj1/MachineLearning_Project1/helpers.py:39: RuntimeWarning: invalid value encountered in true_divide\n",
      "  x = x/stds\n",
      "/Users/marshallcooper/anaconda3/lib/python3.6/site-packages/ipykernel_launcher.py:7: RuntimeWarning: divide by zero encountered in true_divide\n",
      "  import sys\n",
      "/Users/marshallcooper/anaconda3/lib/python3.6/site-packages/ipykernel_launcher.py:7: RuntimeWarning: invalid value encountered in true_divide\n",
      "  import sys\n"
     ]
    },
    {
     "name": "stdout",
     "output_type": "stream",
     "text": [
      "\tTest Loss =  0.24338779667219024  Test Accuracy =  0.25286939627409644\n",
      "Trying degree 1 with lambda = 0.21544346900318834 :\n",
      "\tTest Loss =  0.24338790090242854  Test Accuracy =  0.25286939627409644\n",
      "Trying degree 1 with lambda = 4.6415888336127775 :\n",
      "\tTest Loss =  0.24339014411691806  Test Accuracy =  0.25285355784020075\n",
      "Trying degree 1 with lambda = 100.0 :\n",
      "\tTest Loss =  0.24343858823298772  Test Accuracy =  0.2524980729905427\n",
      "Trying degree 2 with lambda = 0.01 :\n",
      "\tTest Loss =  0.24947699442144283  Test Accuracy =  0.274054181522531\n",
      "Trying degree 2 with lambda = 0.21544346900318834 :\n",
      "\tTest Loss =  0.2494769173210402  Test Accuracy =  0.27405242169654265\n",
      "Trying degree 2 with lambda = 4.6415888336127775 :\n",
      "\tTest Loss =  0.24947525894170797  Test Accuracy =  0.2740471422185774\n",
      "Trying degree 2 with lambda = 100.0 :\n",
      "\tTest Loss =  0.24944220066652417  Test Accuracy =  0.2733766485169946\n",
      "Trying degree 3 with lambda = 0.01 :\n",
      "\tTest Loss =  0.25466230969845277  Test Accuracy =  0.2840376743547598\n",
      "Trying degree 3 with lambda = 0.21544346900318834 :\n",
      "\tTest Loss =  0.2546567632937556  Test Accuracy =  0.28405175296266705\n",
      "Trying degree 3 with lambda = 4.6415888336127775 :\n",
      "\tTest Loss =  0.2545509904195837  Test Accuracy =  0.2839514428813279\n",
      "Trying degree 3 with lambda = 100.0 :\n",
      "\tTest Loss =  0.2535412754189222  Test Accuracy =  0.28189068664890415\n"
     ]
    }
   ],
   "source": [
    "trial_weights, trial_losses, preds =  ridge_trials((1,4),(-2,2))"
   ]
  },
  {
   "cell_type": "code",
   "execution_count": 10,
   "metadata": {},
   "outputs": [
    {
     "data": {
      "text/plain": [
       "array([-1., -1., -1., ..., -1.,  1., -1.])"
      ]
     },
     "execution_count": 10,
     "metadata": {},
     "output_type": "execute_result"
    }
   ],
   "source": [
    "best = preds[np.argmin(trial_losses)]\n",
    "best"
   ]
  },
  {
   "cell_type": "code",
   "execution_count": 11,
   "metadata": {},
   "outputs": [
    {
     "data": {
      "text/plain": [
       "0.25286939627409644"
      ]
     },
     "execution_count": 11,
     "metadata": {},
     "output_type": "execute_result"
    }
   ],
   "source": [
    "compute_accuracy(best, glob_y_te)"
   ]
  },
  {
   "cell_type": "code",
   "execution_count": 48,
   "metadata": {},
   "outputs": [],
   "source": [
    "create_csv_submission(ids_te, best, \"prediction.csv\")"
   ]
  },
  {
   "cell_type": "code",
   "execution_count": null,
   "metadata": {},
   "outputs": [],
   "source": []
  },
  {
   "cell_type": "code",
   "execution_count": null,
   "metadata": {},
   "outputs": [],
   "source": []
  },
  {
   "cell_type": "code",
   "execution_count": null,
   "metadata": {},
   "outputs": [],
   "source": []
  },
  {
   "cell_type": "code",
   "execution_count": null,
   "metadata": {},
   "outputs": [],
   "source": []
  },
  {
   "cell_type": "code",
   "execution_count": null,
   "metadata": {},
   "outputs": [],
   "source": []
  }
 ],
 "metadata": {
  "kernelspec": {
   "display_name": "Python 3",
   "language": "python",
   "name": "python3"
  },
  "language_info": {
   "codemirror_mode": {
    "name": "ipython",
    "version": 3
   },
   "file_extension": ".py",
   "mimetype": "text/x-python",
   "name": "python",
   "nbconvert_exporter": "python",
   "pygments_lexer": "ipython3",
   "version": "3.6.5"
  }
 },
 "nbformat": 4,
 "nbformat_minor": 2
}
